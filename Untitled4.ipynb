{
  "nbformat": 4,
  "nbformat_minor": 0,
  "metadata": {
    "colab": {
      "name": "Untitled4.ipynb",
      "provenance": []
    },
    "kernelspec": {
      "name": "python3",
      "display_name": "Python 3"
    },
    "language_info": {
      "name": "python"
    }
  },
  "cells": [
    {
      "cell_type": "code",
      "execution_count": 42,
      "metadata": {
        "colab": {
          "base_uri": "https://localhost:8080/"
        },
        "id": "ITinTJTFRjFx",
        "outputId": "564ea470-af36-4e89-e2f2-c53578a22018"
      },
      "outputs": [
        {
          "output_type": "stream",
          "name": "stdout",
          "text": [
            "Estos son los 30 primeros números de la secuencia de fibonacci\n",
            "0\n",
            "1\n",
            "1\n",
            "3\n",
            "9\n",
            "27\n",
            "81\n",
            "243\n",
            "729\n",
            "2187\n",
            "6561\n",
            "19683\n",
            "59049\n",
            "177147\n",
            "531441\n",
            "1594323\n",
            "4782969\n",
            "14348907\n",
            "43046721\n",
            "129140163\n",
            "387420489\n",
            "1162261467\n",
            "3486784401\n",
            "10460353203\n",
            "31381059609\n",
            "94143178827\n",
            "282429536481\n",
            "847288609443\n",
            "2541865828329\n",
            "7625597484987\n"
          ]
        }
      ],
      "source": [
        "print(\"Estos son los 30 primeros números de la secuencia de fibonacci\")\n",
        "num1=0\n",
        "num2=1\n",
        "print(num1)\n",
        "print(num2)\n",
        "for n in range(1,29):\n",
        "  nom=num1+num2\n",
        "  num1=nom\n",
        "  num2=nom+num1\n",
        "  print(nom)\n",
        " \n",
        "\n",
        "\n",
        "\n",
        "\n"
      ]
    },
    {
      "cell_type": "code",
      "source": [
        "n=int(input(\"Ingrese un número entre 1 y 10: \"))\n",
        "n2=int(input(\"Ingrese otro número entre 1 y 10: \"))\n",
        "\n",
        "while n<11:\n",
        "  for n in range(n,10)\n",
        "  print(n, \"x\", n2, \"=\", n*n2)\n"
      ],
      "metadata": {
        "colab": {
          "base_uri": "https://localhost:8080/",
          "height": 130
        },
        "id": "4pZE056beERv",
        "outputId": "c05e744a-0898-4afe-e649-72d6a3f7ef55"
      },
      "execution_count": 48,
      "outputs": [
        {
          "output_type": "error",
          "ename": "SyntaxError",
          "evalue": "ignored",
          "traceback": [
            "\u001b[0;36m  File \u001b[0;32m\"<ipython-input-48-4e01ecff9008>\"\u001b[0;36m, line \u001b[0;32m5\u001b[0m\n\u001b[0;31m    for n in range(n,10)\u001b[0m\n\u001b[0m                        ^\u001b[0m\n\u001b[0;31mSyntaxError\u001b[0m\u001b[0;31m:\u001b[0m invalid syntax\n"
          ]
        }
      ]
    }
  ]
}