{
  "nbformat": 4,
  "nbformat_minor": 0,
  "metadata": {
    "colab": {
      "provenance": []
    },
    "kernelspec": {
      "name": "python3",
      "display_name": "Python 3"
    },
    "language_info": {
      "name": "python"
    }
  },
  "cells": [
    {
      "cell_type": "code",
      "execution_count": null,
      "metadata": {
        "id": "pIFX1E9MTuqJ",
        "colab": {
          "base_uri": "https://localhost:8080/"
        },
        "outputId": "48834651-2241-4bd9-fcc6-0ad0284173a9"
      },
      "outputs": [
        {
          "metadata": {
            "tags": null
          },
          "name": "stdout",
          "output_type": "stream",
          "text": [
            "El usuario ha seleccionado Esponja para competir\n",
            "El PC ha seleccionado Papel para competir\n",
            "Esponja le gana a Papel! Tú ganas!\n",
            "\n"
          ]
        }
      ],
      "source": [
        "from random import randint                                 #Importar una libreria para poder definir numeros aleatorios.\n",
        "from enum import IntEnum                                   # Importa la funcion IntEnum de la libreria enum, esto para evitar usar tantos \"ifs\" y poder numerar la lista que yo deseo. \n",
        "\n",
        "class Juego(IntEnum):                                      # Creo una clase con todas las opciones del juego y a cada una de ellas les asigno un valor númerico entero.,                   \n",
        "    Piedra = 0\n",
        "    Papel = 1\n",
        "    Tijeras = 2\n",
        "    Pistola = 3\n",
        "    Agua = 4\n",
        "    Fuego = 5\n",
        "    Aire = 6\n",
        "    Árbol = 7\n",
        "    Humano = 8\n",
        "    Dragón = 9\n",
        "    Relámpago = 10\n",
        "    Demonio = 11\n",
        "    Esponja = 12\n",
        "    Lobo = 13\n",
        "    Serpiente = 14\n",
        "\n",
        "def Seleccion_Usuario():\n",
        "    elecciones = [f\"[{juego.name}][{juego.value}]\" for juego in Juego]\n",
        "    elecciones_str = \", \".join(elecciones)\n",
        "    Seleccion = int(input(f\"Introduzca una opción ({elecciones_str}): \"))\n",
        "    juego = Juego(Seleccion)\n",
        "    return juego\n",
        "\n",
        "def Seleccion_PC():\n",
        "    Seleccion = randint(0, len(Juego) - 1)\n",
        "    juego = Juego(Seleccion)\n",
        "    return juego\n",
        "\n",
        "Victorias = {\n",
        "    Juego.Piedra: [Juego.Fuego, Juego.Tijeras, Juego.Serpiente, Juego.Humano, Juego.Árbol, Juego.Lobo, Juego.Esponja],\n",
        "    Juego.Papel: [Juego.Piedra, Juego.Pistola, Juego.Relámpago, Juego.Demonio, Juego.Dragón, Juego.Agua, Juego.Aire],\n",
        "    Juego.Tijeras: [Juego.Aire, Juego.Papel, Juego.Esponja, Juego.Lobo, Juego.Árbol, Juego.Humano, Juego.Serpiente],\n",
        "    Juego.Pistola: [Juego.Lobo, Juego.Árbol, Juego.Humano, Juego.Serpiente, Juego.Tijeras, Juego.Fuego, Juego.Piedra],\n",
        "    Juego.Agua: [Juego.Tijeras, Juego.Fuego, Juego.Piedra, Juego.Pistola, Juego.Tijeras, Juego.Fuego, Juego.Piedra],\n",
        "    Juego.Fuego: [Juego.Papel, Juego.Esponja, Juego.Lobo, Juego.Árbol, Juego.Humano, Juego.Serpiente, Juego.Tijeras],\n",
        "    Juego.Aire: [Juego.Fuego, Juego.Piedra, Juego.Pistola, Juego.Relámpago, Juego.Demonio, Juego.Dragón, Juego.Agua],\n",
        "    Juego.Árbol: [Juego.Demonio, Juego.Dragón, Juego.Agua, Juego.Aire, Juego.Papel, Juego.Esponja, Juego.Lobo],\n",
        "    Juego.Humano: [Juego.Dragón, Juego.Agua, Juego.Aire, Juego.Papel, Juego.Esponja, Juego.Lobo, Juego.Árbol],\n",
        "    Juego.Dragón: [Juego.Serpiente, Juego.Tijeras, Juego.Fuego, Juego.Piedra, Juego.Pistola, Juego.Relámpago, Juego.Demonio],\n",
        "    Juego.Relámpago: [Juego.Árbol, Juego.Humano, Juego.Serpiente, Juego.Tijeras, Juego.Fuego, Juego.Piedra, Juego.Pistola],\n",
        "    Juego.Demonio: [Juego.Humano, Juego.Serpiente, Juego.Tijeras, Juego.Fuego, Juego.Piedra, Juego.Pistola, Juego.Relámpago],\n",
        "    Juego.Esponja: [Juego.Pistola, Juego.Relámpago, Juego.Demonio, Juego.Dragón, Juego.Agua, Juego.Aire, Juego.Papel],\n",
        "    Juego.Lobo: [Juego.Relámpago, Juego.Demonio, Juego.Dragón, Juego.Agua, Juego.Aire, Juego.Papel, Juego.Esponja],\n",
        "    Juego.Serpiente: [Juego.Agua, Juego.Aire, Juego.Papel, Juego.Esponja, Juego.Lobo, Juego.Árbol, Juego.Humano],\n",
        "}\n",
        "\n",
        "def Determinar_Ganador(juego_usuario, juego_PC):\n",
        "    Fila = Victorias[juego_usuario]                         # Seleccionar la FILA de intereses\n",
        "    if juego_usuario == juego_PC:\n",
        "        print(f\"Ambos jugadores seleccionaron {juego_usuario.name}. Esto es un empate!\")\n",
        "        \n",
        "    elif juego_PC in Fila:\n",
        "        print(f\"{juego_usuario.name} le gana a {juego_PC.name}! Tú ganas!\")\n",
        "        print(\"\")\n",
        "    else:\n",
        "        print(f\"{juego_PC.name} le gana a {juego_usuario.name}! Tú pierdes.\")\n",
        "        print(\"\")\n",
        "        \n",
        "while True:\n",
        "    try:\n",
        "        Juego_User = Seleccion_Usuario()\n",
        "        print(f\"El usuario ha seleccionado {Juego_User.name} para competir\")   \n",
        "    except ValueError as e:\n",
        "        range_str = f\"[0, {len(Juego) - 1}]\"\n",
        "        print(f\"Selección invalida. Introduzca un valor en el rango {range_str}\")\n",
        "        continue\n",
        "\n",
        "    Juego_PC = Seleccion_PC()\n",
        "    print(f\"El PC ha seleccionado {Juego_PC.name} para competir\")\n",
        "    \n",
        "    Determinar_Ganador(Juego_User, Juego_PC)\n",
        "\n",
        "    class Final(IntEnum):\n",
        "        Continuar = 0\n",
        "        Finalizar = 1\n",
        "\n",
        "    try:\n",
        "        listado = [f\"[{i.name}][{i.value}]\" for i in Final]\n",
        "        listado_str = \", \".join(listado)\n",
        "        EndGame = int(input(f\"Introduzca una opción ({listado_str}): \"))\n",
        "        Jugar_Nuevamente = Final(EndGame).value\n",
        "    except ValueError as e:\n",
        "        range_str = f\"[0, {len(Final) - 1}]\"\n",
        "        print(f\"Selección invalida. Introduzca un valor en el rango {range_str}\")\n",
        "        continue\n",
        "    \n",
        "    if Jugar_Nuevamente == 1:\n",
        "        print(f\"Cerrando el juego\")\n",
        "        break\n"
      ]
    }
  ]
}